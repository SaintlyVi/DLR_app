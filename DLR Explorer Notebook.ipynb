{
 "cells": [
  {
   "cell_type": "markdown",
   "metadata": {},
   "source": [
    "# Domestic Load Research Data Explorer for the Curious\n",
    "This notebook contains the functions that do the data processing in the DLR Data Explorer app so that curious researchers can have a more fine grained view of the dataset."
   ]
  },
  {
   "cell_type": "markdown",
   "metadata": {},
   "source": [
    "## Function and Data Setup"
   ]
  },
  {
   "cell_type": "markdown",
   "metadata": {},
   "source": [
    "### Import Statements"
   ]
  },
  {
   "cell_type": "code",
   "execution_count": null,
   "metadata": {},
   "outputs": [],
   "source": [
    "import dash\n",
    "import dash_core_components as dcc\n",
    "import dash_html_components as html\n",
    "import dash_table_experiments as dt\n",
    "from dash.dependencies import Input, Output#, State\n",
    "\n",
    "import colorlover as cl\n",
    "import plotly.graph_objs as go\n",
    "import plotly.offline as po\n",
    "import cufflinks as cf\n",
    "po.init_notebook_mode(connected=True)\n",
    "\n",
    "import pandas as pd\n",
    "import numpy as np\n",
    "import os\n",
    "import base64\n",
    "\n",
    "from delprocess.surveys import loadTable, loadAnswers, searchQuestions, loadID, genS\n",
    "from delprocess.loadprofiles import loadReducedProfiles\n",
    "from delprocess.plotprofiles import createMap\n",
    "from support import appProfiles \n",
    "\n",
    "mapbox_access_token = 'pk.eyJ1Ijoic2FpbnRseXZpIiwiYSI6ImNqZHZpNXkzcjFwejkyeHBkNnp3NTkzYnQifQ.Rj_C-fOaZXZTVhTlliofMA'"
   ]
  },
  {
   "cell_type": "markdown",
   "metadata": {},
   "source": [
    "### Data Import\n",
    "Requires datasets to be in the /data folder"
   ]
  },
  {
   "cell_type": "code",
   "execution_count": null,
   "metadata": {},
   "outputs": [],
   "source": [
    "# Get load profile data from disk\n",
    "profiles = appProfiles(1994,2014)  \n",
    "\n",
    "# Load datasets\n",
    "ids = loadID()\n",
    "a_ids = ids.drop_duplicates('AnswerID')\n",
    "p_ids = ids.loc[ids['Unit of measurement']==2].drop_duplicates('ProfileID')\n",
    "print(ids.columns)\n",
    "\n",
    "#a little bit of data wrangling\n",
    "loc_summary = pd.pivot_table(ids, values = ['AnswerID'], index = ['Year','Survey','LocName','Lat','Long','Municipality','Province'],aggfunc = np.count_nonzero)\n",
    "loc_summary.reset_index(inplace=True)\n",
    "loc_summary.rename(columns={'AnswerID':'# households'}, inplace=True)"
   ]
  },
  {
   "cell_type": "code",
   "execution_count": null,
   "metadata": {},
   "outputs": [],
   "source": [
    "tbls = loadTable('questionaires')\n",
    "tbls[tbls['QuestionaireID'].isin([3, 4, 6, 7, 1000000, 1000001, 1000002])]"
   ]
  },
  {
   "cell_type": "markdown",
   "metadata": {},
   "source": [
    "## Survey Locations"
   ]
  },
  {
   "cell_type": "markdown",
   "metadata": {},
   "source": [
    "### Map View"
   ]
  },
  {
   "cell_type": "code",
   "execution_count": null,
   "metadata": {},
   "outputs": [],
   "source": [
    "def create_map(ids_df):\n",
    " \n",
    "    georef = pd.pivot_table(ids_df, values = ['AnswerID'], index = ['Year','LocName','Lat','Long','Municipality','Province'],aggfunc = np.count_nonzero)\n",
    "    georef.reset_index(inplace=True)\n",
    "    georef.rename(columns={'AnswerID':'# households'}, inplace=True)\n",
    "                           \n",
    "    traces = []\n",
    "    for y in range(georef.Year.min(), georef.Year.max()+1):\n",
    "        lat = georef.loc[(georef.Year==y), 'Lat']\n",
    "        lon = georef.loc[(georef.Year==y), 'Long']\n",
    "        text = georef.loc[(georef.Year==y), '# households'].astype(str) + ' household surveys</br>'+ georef.loc[(georef.Year==y), 'LocName'] + ', ' + georef.loc[(georef.Year==y), 'Municipality']\n",
    "        marker_size = georef.loc[georef.Year==y,'# households']**(1/2.5)*2.7\n",
    "        marker_size.replace([0,1,2,3,4, 5], 6, inplace=True)\n",
    "        trace=go.Scattermapbox(\n",
    "                name=y,\n",
    "                lat=lat,\n",
    "                lon=lon,\n",
    "                mode='markers',\n",
    "                marker=go.Marker(\n",
    "                    size=marker_size\n",
    "                ),\n",
    "                text=text,\n",
    "            )\n",
    "        traces.append(trace)\n",
    "    figure=go.Figure(\n",
    "        data=go.Data(traces),\n",
    "        layout = go.Layout(\n",
    "                autosize=True,\n",
    "                hovermode='closest',\n",
    "                mapbox=dict(\n",
    "                    accesstoken=mapbox_access_token,\n",
    "                    bearing=0,\n",
    "                    center=dict(\n",
    "                        lat=-29.1,\n",
    "                        lon=25\n",
    "                    ),\n",
    "                    pitch=0,\n",
    "                    zoom=4.32,\n",
    "                    style='light'\n",
    "                ),\n",
    "                margin = go.Margin(\n",
    "                        l = 10,\n",
    "                        r = 10,\n",
    "                        t = 20,\n",
    "                        b = 30\n",
    "                ),\n",
    "                showlegend=True\n",
    "            )\n",
    "    )\n",
    "    return po.iplot( figure)"
   ]
  },
  {
   "cell_type": "code",
   "execution_count": null,
   "metadata": {},
   "outputs": [],
   "source": [
    "create_map(ids)"
   ]
  },
  {
   "cell_type": "markdown",
   "metadata": {},
   "source": [
    "### Total surveyed households by year"
   ]
  },
  {
   "cell_type": "code",
   "execution_count": null,
   "metadata": {},
   "outputs": [],
   "source": [
    "def plotCustomerDist(ids_df, id_filter, **kwargs):\n",
    "    ids = ids_df.groupby(['Survey','Year'])[id_filter].nunique()\n",
    "    \n",
    "    if 'nrslr_col' in kwargs:\n",
    "        nrslr_col = kwargs['nrslr_col']\n",
    "    else: nrslr_col = 'red'\n",
    "    if 'eskomlr_col' in kwargs:\n",
    "        eskomlr_col = kwargs['eskomlr_col'] \n",
    "    else: eskomlr_col = 'blue' \n",
    "    \n",
    "    nrslr = go.Bar(x = ids['NRS LR'].index, \n",
    "                   y = ids['NRS LR'].values,\n",
    "                   marker=dict(color=nrslr_col),\n",
    "                   name = 'Municipalities')\n",
    "\n",
    "    eskomlr = go.Bar(x = ids['Eskom LR'].index, \n",
    "                     y = ids['Eskom LR'].values,\n",
    "                     marker = dict(color=eskomlr_col),\n",
    "                     name = 'Eskom')\n",
    "\n",
    "    layout = go.Layout(title=kwargs['plot_title']+' from 1994 - 2014',\n",
    "                       barmode = 'relative',\n",
    "                       xaxis=dict(title='Year', tickvals=list(range(1994,2015))),\n",
    "                       yaxis=dict(title=id_filter+' Count', showline=True),\n",
    "                       margin=dict(t=70),\n",
    "                       height=450, width=850)\n",
    "\n",
    "    fig = go.Figure(data=[nrslr, eskomlr], layout=layout)\n",
    "    po.iplot(fig)"
   ]
  },
  {
   "cell_type": "code",
   "execution_count": null,
   "metadata": {},
   "outputs": [],
   "source": [
    "plotCustomerDist(p_ids, 'ProfileID', plot_title = 'Households Metered')"
   ]
  },
  {
   "cell_type": "code",
   "execution_count": null,
   "metadata": {},
   "outputs": [],
   "source": [
    "plotCustomerDist(a_ids, 'AnswerID', plot_title = 'Household Surveys Conducted')"
   ]
  },
  {
   "cell_type": "code",
   "execution_count": null,
   "metadata": {},
   "outputs": [],
   "source": [
    "plotCustomerDist(p_ids, 'Location', plot_title='Sites Metered', nrslr_col='tomato', eskomlr_col='skyblue')"
   ]
  },
  {
   "cell_type": "code",
   "execution_count": null,
   "metadata": {},
   "outputs": [],
   "source": [
    "plotCustomerDist(a_ids, 'Location', plot_title='Sites Surveyed', nrslr_col='tomato', eskomlr_col='skyblue')"
   ]
  },
  {
   "cell_type": "code",
   "execution_count": null,
   "metadata": {},
   "outputs": [],
   "source": [
    "ids.groupby(['Survey','Province','Year'])['AnswerID'].count().unstack().fillna('')"
   ]
  },
  {
   "cell_type": "markdown",
   "metadata": {},
   "source": [
    "### Total surveyed household count by municipality"
   ]
  },
  {
   "cell_type": "code",
   "execution_count": null,
   "metadata": {},
   "outputs": [],
   "source": [
    "pd.DataFrame(loc_summary.groupby(['Province','Municipality'])['# households'].sum())"
   ]
  },
  {
   "cell_type": "markdown",
   "metadata": {},
   "source": [
    "### Data Collection by Municipal Collaborators\n",
    "*DCOs: Data Collection Organisations.These have been captured under NRS LR Survey in the database"
   ]
  },
  {
   "cell_type": "code",
   "execution_count": null,
   "metadata": {},
   "outputs": [],
   "source": [
    "ids.loc[ids.Survey=='NRS LR'].groupby('Municipality')[['Location','AnswerID']].agg({'Location':'nunique','AnswerID':'nunique'})#.unstack().fillna('')"
   ]
  },
  {
   "cell_type": "markdown",
   "metadata": {},
   "source": [
    "## Socio-demographic Summaries"
   ]
  },
  {
   "cell_type": "markdown",
   "metadata": {},
   "source": [
    "### Search Survey Questions for Key Words"
   ]
  },
  {
   "cell_type": "code",
   "execution_count": null,
   "metadata": {},
   "outputs": [],
   "source": [
    "searchQuestions('hotwater')"
   ]
  },
  {
   "cell_type": "markdown",
   "metadata": {},
   "source": [
    "### Create Dataframe with Selected Features"
   ]
  },
  {
   "cell_type": "code",
   "execution_count": null,
   "metadata": {
    "scrolled": true
   },
   "outputs": [],
   "source": [
    "sd = genS('dist_base_appliance_behaviour',1994,2014)\n",
    "sd.head()"
   ]
  },
  {
   "cell_type": "markdown",
   "metadata": {},
   "source": [
    "### Distribution of Survey Variables for Households"
   ]
  },
  {
   "cell_type": "code",
   "execution_count": null,
   "metadata": {},
   "outputs": [],
   "source": [
    "def plotVarDist(var_df, var, var_bin, var_col, **kwargs):\n",
    "    v = [go.Histogram(x=var_df[var], xbins=dict(\n",
    "                                    start=0,\n",
    "                                    end=var_df[var].max()/2, #exclude the long tail from analysis\n",
    "                                    size= var_bin),\n",
    "                                    autobinx=False,\n",
    "                                    marker=dict(color=var_col, line=dict(color='#000000', width=0.5)))]\n",
    "    layout = go.Layout(title=kwargs['plot_title'],\n",
    "                      xaxis=dict(title=kwargs['x_title']),\n",
    "                      yaxis=dict(title='Household Count', showline=True),\n",
    "                      margin=dict(t=70),\n",
    "                      height=350, width=650)\n",
    "    fig = go.Figure(data=v, layout=layout)\n",
    "    po.iplot(fig)"
   ]
  },
  {
   "cell_type": "code",
   "execution_count": null,
   "metadata": {},
   "outputs": [],
   "source": [
    "plotVarDist(sd, 'monthly_income', 2000, cl.scales['3']['qual']['Pastel1'][0], \n",
    "            plot_title='Distribution of Monthly Income of Survey Respondents', \n",
    "            x_title='Household Income in ZAR (R2k bin size, inflation adjusted to Dec 2016)')"
   ]
  },
  {
   "cell_type": "code",
   "execution_count": null,
   "metadata": {},
   "outputs": [],
   "source": [
    "plotVarDist(sd, 'floor_area', 25, cl.scales['3']['qual']['Pastel1'][1], \n",
    "            plot_title='Distribution of Dwelling Floor Area of Survey Respondents', \n",
    "            x_title='Dwelling Floor Area (25mˆ2 bin size)')"
   ]
  },
  {
   "cell_type": "code",
   "execution_count": null,
   "metadata": {},
   "outputs": [],
   "source": [
    "plotVarDist(sd, 'years_electrified', 1, cl.scales['3']['qual']['Pastel1'][2], \n",
    "            plot_title=\"Survey Respondents' Years Since Electrification\", \n",
    "            x_title=\"Years Electrified (1 year bin size)\")"
   ]
  },
  {
   "cell_type": "markdown",
   "metadata": {},
   "source": [
    "#### View Locations for Year"
   ]
  },
  {
   "cell_type": "code",
   "execution_count": null,
   "metadata": {},
   "outputs": [],
   "source": [
    "#Specify Survey Year\n",
    "year = 2005\n",
    "\n",
    "ids_yr = ids[ids.Year==year]\n",
    "list(ids_yr.LocName.unique())"
   ]
  },
  {
   "cell_type": "markdown",
   "metadata": {},
   "source": [
    "### Location Details"
   ]
  },
  {
   "cell_type": "code",
   "execution_count": null,
   "metadata": {},
   "outputs": [],
   "source": [
    "location = 'Dinokana'\n",
    "\n",
    "aid_select = ids_yr.loc[(ids_yr.LocName==location)&(ids_yr.AnswerID!=0), 'AnswerID']\n",
    "sd_yr = sd[sd.AnswerID.isin(aid_select)]\n",
    "sd_yr.describe()"
   ]
  },
  {
   "cell_type": "markdown",
   "metadata": {},
   "source": [
    "#### Electricity Supply"
   ]
  },
  {
   "cell_type": "code",
   "execution_count": null,
   "metadata": {},
   "outputs": [],
   "source": [
    "sd_yr[['years_electrified','main_switch']].describe()"
   ]
  },
  {
   "cell_type": "markdown",
   "metadata": {},
   "source": [
    "#### Appliance Ownership"
   ]
  },
  {
   "cell_type": "code",
   "execution_count": null,
   "metadata": {},
   "outputs": [],
   "source": [
    "pd.DataFrame(sd_yr.iloc[:,4:4+len(appliances)].count()/len(sd_yr), columns=['Ownership (%hh)'])"
   ]
  },
  {
   "cell_type": "markdown",
   "metadata": {},
   "source": [
    "#### Size of Housing"
   ]
  },
  {
   "cell_type": "code",
   "execution_count": null,
   "metadata": {},
   "outputs": [],
   "source": [
    "sd_yr[['floor_area','rooms']].describe()"
   ]
  },
  {
   "cell_type": "code",
   "execution_count": null,
   "metadata": {},
   "outputs": [],
   "source": [
    "mdf = ids[ids.AnswerID!=0].merge(sd)\n",
    "Eskom_income = mdf[mdf.Survey=='Eskom LR'].groupby(['Year','Province']).aggregate({'AnswerID':np.count_nonzero,'monthly_income':np.mean})"
   ]
  },
  {
   "cell_type": "code",
   "execution_count": null,
   "metadata": {},
   "outputs": [],
   "source": [
    "mdf.loc[mdf.Survey=='Eskom LR',['Year','monthly_income']].pivot(columns='Year').iplot(kind='box', title='Monthly income distribution for Eskom Sites')"
   ]
  },
  {
   "cell_type": "code",
   "execution_count": null,
   "metadata": {},
   "outputs": [],
   "source": [
    "mdf.loc[mdf.Survey=='NRS LR',['Year','monthly_income']].pivot(columns='Year').iplot(kind='box', title='Monthly income distribution for Municipal Sites')"
   ]
  },
  {
   "cell_type": "code",
   "execution_count": null,
   "metadata": {},
   "outputs": [],
   "source": [
    "df = mdf.loc[mdf.Survey=='Eskom LR',['Year','monthly_income']].pivot(columns='Year')"
   ]
  },
  {
   "cell_type": "code",
   "execution_count": null,
   "metadata": {},
   "outputs": [],
   "source": [
    "df.columns"
   ]
  },
  {
   "cell_type": "code",
   "execution_count": null,
   "metadata": {},
   "outputs": [],
   "source": [
    "df.columns.names"
   ]
  },
  {
   "cell_type": "code",
   "execution_count": null,
   "metadata": {},
   "outputs": [],
   "source": [
    "df.reset_index(drop=True, col_level='Year')"
   ]
  },
  {
   "cell_type": "code",
   "execution_count": null,
   "metadata": {},
   "outputs": [],
   "source": []
  }
 ],
 "metadata": {
  "kernelspec": {
   "display_name": "Python 3",
   "language": "python",
   "name": "python3"
  },
  "language_info": {
   "codemirror_mode": {
    "name": "ipython",
    "version": 3
   },
   "file_extension": ".py",
   "mimetype": "text/x-python",
   "name": "python",
   "nbconvert_exporter": "python",
   "pygments_lexer": "ipython3",
   "version": "3.6.5"
  }
 },
 "nbformat": 4,
 "nbformat_minor": 2
}
